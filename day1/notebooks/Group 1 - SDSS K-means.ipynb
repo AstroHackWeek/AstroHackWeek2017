{
 "cells": [
  {
   "cell_type": "markdown",
   "metadata": {},
   "source": [
    "# K-means with SDSS data"
   ]
  },
  {
   "cell_type": "markdown",
   "metadata": {},
   "source": [
    "Machine learning exercise by Group 1 at AstroHackWeek 2017, Day 1.\n",
    "\n",
    "First, we blatantly copy some of the code from the demo-SDSS notebook..."
   ]
  },
  {
   "cell_type": "code",
   "execution_count": null,
   "metadata": {
    "collapsed": true
   },
   "outputs": [],
   "source": [
    "from os import path\n",
    "from astropy.table import Table\n",
    "import h5py\n",
    "import matplotlib.pyplot as plt\n",
    "#plt.style.use('notebook.mplstyle')\n",
    "%matplotlib inline\n",
    "import numpy as np\n",
    "from sklearn.cluster import KMeans"
   ]
  },
  {
   "cell_type": "code",
   "execution_count": null,
   "metadata": {
    "collapsed": true
   },
   "outputs": [],
   "source": [
    "data_path = '/Users/Meredith/Astronomy/astrohack/ahw2017-ml-data/'  # specific to my computer"
   ]
  },
  {
   "cell_type": "code",
   "execution_count": null,
   "metadata": {},
   "outputs": [],
   "source": [
    "photoPos = Table.read(path.join(data_path, 'sdss', 'photoPosPlate-merged.hdf5'), \n",
    "                      path='photoPosPlate')"
   ]
  },
  {
   "cell_type": "code",
   "execution_count": null,
   "metadata": {},
   "outputs": [],
   "source": [
    "len(photoPos)"
   ]
  },
  {
   "cell_type": "markdown",
   "metadata": {},
   "source": [
    "Pull color information out of the photoPosPlate data file for u-g, g-r, r-i, and i-z colors"
   ]
  },
  {
   "cell_type": "code",
   "execution_count": null,
   "metadata": {
    "collapsed": true
   },
   "outputs": [],
   "source": [
    "# 01234 = ugriz filters\n",
    "u_g = photoPos['PSFMAG'][:,0] - photoPos['PSFMAG'][:,1]\n",
    "g_r = photoPos['PSFMAG'][:,1] - photoPos['PSFMAG'][:,2]\n",
    "r_i = photoPos['PSFMAG'][:,2] - photoPos['PSFMAG'][:,3]\n",
    "i_z = photoPos['PSFMAG'][:,3] - photoPos['PSFMAG'][:,4]"
   ]
  },
  {
   "cell_type": "markdown",
   "metadata": {},
   "source": [
    "Let's take a look at how the spectral data was classified by SDSS into galaxies, QSOs, or stars"
   ]
  },
  {
   "cell_type": "code",
   "execution_count": null,
   "metadata": {},
   "outputs": [],
   "source": [
    "specObj = Table.read(path.join(data_path, 'sdss', 'specObj-merged.hdf5'), \n",
    "                     path='specObj')\n",
    "spec_class = specObj['CLASS'].astype(str)\n",
    "spec_classes = np.unique(spec_class)\n",
    "for cls in spec_classes:\n",
    "    print(cls, (spec_class == cls).sum())"
   ]
  },
  {
   "cell_type": "code",
   "execution_count": null,
   "metadata": {},
   "outputs": [],
   "source": [
    "fig, axes = plt.subplots(1, len(spec_classes), figsize=(12.5,5), \n",
    "                         sharex=True, sharey=True)\n",
    "\n",
    "for i, cls in enumerate(spec_classes):\n",
    "    axes[i].plot(g_r[spec_class == cls], r_i[spec_class == cls], \n",
    "                 marker='.', linestyle='none', alpha=0.1)\n",
    "    axes[i].set_title(cls)\n",
    "    axes[i].set_xlabel('$g-r$ [mag]')\n",
    "\n",
    "axes[0].set_xlim(-0.5, 2.5)\n",
    "axes[0].set_ylim(-1, 2)\n",
    "\n",
    "axes[0].set_ylabel('$r-i$ [mag]')\n",
    "\n",
    "fig.tight_layout()"
   ]
  },
  {
   "cell_type": "markdown",
   "metadata": {},
   "source": [
    "Hopefully our K-means clustering will show us that the dataset breaks into somewhat similarly-shaped pieces in color-color space.\n",
    "\n",
    "## Running K-means\n",
    "\n",
    "To get an idea for how our data for K-means should be structured, we refer to the example at http://scikit-learn.org/stable/modules/generated/sklearn.cluster.KMeans.html"
   ]
  },
  {
   "cell_type": "code",
   "execution_count": null,
   "metadata": {
    "collapsed": true
   },
   "outputs": [],
   "source": [
    "X = np.array([[1, 2], [1, 4], [1, 0], [4, 2], [4, 4], [4, 0]])"
   ]
  },
  {
   "cell_type": "code",
   "execution_count": null,
   "metadata": {},
   "outputs": [],
   "source": [
    "X.shape  # (number of data points X number of things per data point)"
   ]
  },
  {
   "cell_type": "code",
   "execution_count": null,
   "metadata": {},
   "outputs": [],
   "source": [
    "colors = np.array([u_g, g_r, r_i, i_z]).T  # put into the same shape as X"
   ]
  },
  {
   "cell_type": "code",
   "execution_count": null,
   "metadata": {},
   "outputs": [],
   "source": [
    "colors.shape"
   ]
  },
  {
   "cell_type": "code",
   "execution_count": null,
   "metadata": {
    "collapsed": true
   },
   "outputs": [],
   "source": [
    "n_clusters = 8  # the number of clusters to use"
   ]
  },
  {
   "cell_type": "code",
   "execution_count": null,
   "metadata": {
    "collapsed": true
   },
   "outputs": [],
   "source": [
    "kmeans = KMeans(n_clusters=n_clusters, random_state=0).fit(colors)  # run the K-means analysis"
   ]
  },
  {
   "cell_type": "code",
   "execution_count": null,
   "metadata": {},
   "outputs": [],
   "source": [
    "print(kmeans.labels_)  # the label from 0 to n_clusters assigned to each point"
   ]
  },
  {
   "cell_type": "code",
   "execution_count": null,
   "metadata": {},
   "outputs": [],
   "source": [
    "print(kmeans.cluster_centers_)"
   ]
  },
  {
   "cell_type": "code",
   "execution_count": null,
   "metadata": {},
   "outputs": [],
   "source": [
    "# make a new plot for each cluster center\n",
    "for k in range(n_clusters):\n",
    "    plt.figure(figsize=(5,5))\n",
    "    idx = (kmeans.labels_ == k)\n",
    "    plt.scatter(g_r[idx], r_i[idx], alpha=0.1, marker='.')\n",
    "    plt.xlabel('$g - r$ [mag]')\n",
    "    plt.ylabel('$r - i$ [mag]')\n",
    "    plt.xlim([-0.5, 2.5])\n",
    "    plt.ylim([-1, 2])\n",
    "    plt.title('cluster label ' + str(k))"
   ]
  },
  {
   "cell_type": "markdown",
   "metadata": {},
   "source": [
    "At a glance, it looks like clusters 0, 4, and 6 are mostly galaxies, clusters 1 and 2 are weird outliers, cluster 3 is QSOs (plus some stellar contamination?), and clusters 5 and 7 are mostly stars. We could almost certainly refine this better given more time.\n",
    "\n",
    "## Troubleshooting the outliers in clusters 1 and 2\n",
    "\n",
    "Get the indices corresponding to each K-means label 0, 1, and 2 for comparison"
   ]
  },
  {
   "cell_type": "code",
   "execution_count": null,
   "metadata": {
    "collapsed": true
   },
   "outputs": [],
   "source": [
    "zeroidx = np.where((kmeans.labels_ == 0))\n",
    "oneidx = np.where((kmeans.labels_ == 1))\n",
    "twoidx = np.where((kmeans.labels_ == 2))"
   ]
  },
  {
   "cell_type": "code",
   "execution_count": null,
   "metadata": {},
   "outputs": [],
   "source": [
    "print(len(zeroidx[0]))\n",
    "print(len(oneidx[0]))\n",
    "print(len(twoidx[0]))"
   ]
  },
  {
   "cell_type": "code",
   "execution_count": null,
   "metadata": {},
   "outputs": [],
   "source": [
    "plt.figure(figsize=(5,5))\n",
    "plt.plot(g_r, r_i, alpha=0.1, ls='None', marker='.')  # full dataset\n",
    "plt.plot(g_r[oneidx], r_i[oneidx], ls='None', marker='o', mec='k')  # problem outlier 1\n",
    "plt.plot(g_r[twoidx], r_i[twoidx], ls='None', marker='o', mec='k')  # problem outlier 2\n",
    "plt.xlabel('$g - r$ [mag]')\n",
    "plt.ylabel('$r - i$ [mag]')\n",
    "plt.xlim([-0.5, 2.5])\n",
    "plt.ylim([-1, 2])"
   ]
  },
  {
   "cell_type": "markdown",
   "metadata": {},
   "source": [
    "The two outlier points highlighted on top of the full dataset."
   ]
  },
  {
   "cell_type": "code",
   "execution_count": null,
   "metadata": {
    "collapsed": true
   },
   "outputs": [],
   "source": []
  }
 ],
 "metadata": {
  "kernelspec": {
   "display_name": "Python 3",
   "language": "python",
   "name": "python3"
  },
  "language_info": {
   "codemirror_mode": {
    "name": "ipython",
    "version": 3
   },
   "file_extension": ".py",
   "mimetype": "text/x-python",
   "name": "python",
   "nbconvert_exporter": "python",
   "pygments_lexer": "ipython3",
   "version": "3.6.2"
  }
 },
 "nbformat": 4,
 "nbformat_minor": 2
}
