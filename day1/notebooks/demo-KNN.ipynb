{
 "cells": [
  {
   "cell_type": "markdown",
   "metadata": {},
   "source": [
    "# `K`-nearest neighbors"
   ]
  },
  {
   "cell_type": "code",
   "execution_count": null,
   "metadata": {
    "collapsed": true
   },
   "outputs": [],
   "source": [
    "import numpy as np\n",
    "import matplotlib.pyplot as plt\n",
    "plt.style.use('notebook.mplstyle')\n",
    "%matplotlib inline\n",
    "from scipy.stats import mode"
   ]
  },
  {
   "cell_type": "markdown",
   "metadata": {},
   "source": [
    "Let's imagine we measure 2 quantities, $x_1$ and $x_2$ for some objects, and we know the classes that these objects belong to, e.g., \"star\", 0, or \"galaxy\", 1 (maybe we classified these objects by hand, or knew through some other means). We now observe ($x_1$, $x_2$) for some new object and want to know whether it belongs in class 0 or 1.\n",
    "\n",
    "We'll first generate some fake data with known classes:"
   ]
  },
  {
   "cell_type": "code",
   "execution_count": null,
   "metadata": {
    "collapsed": true
   },
   "outputs": [],
   "source": [
    "a = np.random.multivariate_normal([1., 0.5], \n",
    "                                  [[4., 0.],\n",
    "                                   [0., 0.25]], size=512)\n",
    "\n",
    "b = np.random.multivariate_normal([10., 8.], \n",
    "                                  [[1., 0.],\n",
    "                                   [0., 25]], size=1024)\n",
    "\n",
    "X = np.vstack((a,b))\n",
    "y = np.concatenate((np.zeros(len(a)), \n",
    "                    np.ones(len(b))))"
   ]
  },
  {
   "cell_type": "code",
   "execution_count": null,
   "metadata": {},
   "outputs": [],
   "source": [
    "X.shape, y.shape"
   ]
  },
  {
   "cell_type": "code",
   "execution_count": null,
   "metadata": {},
   "outputs": [],
   "source": [
    "plt.figure(figsize=(6,6))\n",
    "\n",
    "plt.scatter(X[:,0], X[:,1], c=y, cmap='RdBu', marker='.', alpha=0.4)\n",
    "\n",
    "plt.xlim(-10, 20)\n",
    "plt.ylim(-10, 20)\n",
    "\n",
    "plt.title('Training data')\n",
    "plt.xlabel('$x_1$')\n",
    "plt.ylabel('$x_2$')\n",
    "\n",
    "plt.tight_layout()"
   ]
  },
  {
   "cell_type": "markdown",
   "metadata": {},
   "source": [
    "We now observe a new point, and would like to know which class it belongs to:"
   ]
  },
  {
   "cell_type": "code",
   "execution_count": null,
   "metadata": {
    "collapsed": true
   },
   "outputs": [],
   "source": [
    "np.random.seed(42)\n",
    "new_pt = np.random.uniform(-10, 20, size=2)"
   ]
  },
  {
   "cell_type": "code",
   "execution_count": null,
   "metadata": {},
   "outputs": [],
   "source": [
    "plt.figure(figsize=(6,6))\n",
    "\n",
    "plt.scatter(X[:,0], X[:,1], c=y, cmap='RdBu', marker='.', alpha=0.5, linewidth=0)\n",
    "plt.scatter(new_pt[0], new_pt[1], marker='+', color='g', s=100, linewidth=3)\n",
    "\n",
    "plt.xlim(-10, 20)\n",
    "plt.ylim(-10, 20)\n",
    "\n",
    "plt.xlabel('$x_1$')\n",
    "plt.ylabel('$x_2$')\n",
    "\n",
    "plt.tight_layout()"
   ]
  },
  {
   "cell_type": "markdown",
   "metadata": {},
   "source": [
    "KNN works by predicting the class of a new point based on the classes of the `K` training data points closest to the new point. The two things that can be customized about this method are `K`, the number of points to use, and the distance metric used to compute the distances between the new point and the training data. If the dimensions in your data are measured with different units or with very different measurement uncertainties, you might need to be careful with the way you choose this metric. For simplicity, we'll start by fixing `K=16` and use a Euclidean distance to see how this works in practice:"
   ]
  },
  {
   "cell_type": "code",
   "execution_count": null,
   "metadata": {
    "collapsed": true
   },
   "outputs": [],
   "source": [
    "K = 16\n",
    "\n",
    "def distance(pts1, pts2):\n",
    "    pts1 = np.atleast_2d(pts1)\n",
    "    pts2 = np.atleast_2d(pts2)\n",
    "    return np.sqrt( (pts1[:,0]-pts2[:,0])**2 + (pts1[:,1]-pts2[:,1])**2)"
   ]
  },
  {
   "cell_type": "code",
   "execution_count": null,
   "metadata": {},
   "outputs": [],
   "source": [
    "# compute the distance between all training data points and the new point\n",
    "dists = distance(X, new_pt)\n",
    "\n",
    "# get the classes (from the training data) of the K nearest points\n",
    "nearest_classes = y[np.argsort(dists)[:K]]\n",
    "\n",
    "nearest_classes"
   ]
  },
  {
   "cell_type": "markdown",
   "metadata": {},
   "source": [
    "All of the closest points are from class 1, so we would classify the new point as class=1. If there is a mixture of possible classes, take the class with more neighbors. If it's a tie, choose a class at random. That's it! Let's see how to use the KNN classifier in scikit-learn:"
   ]
  },
  {
   "cell_type": "code",
   "execution_count": null,
   "metadata": {
    "collapsed": true
   },
   "outputs": [],
   "source": [
    "from sklearn.neighbors import KNeighborsClassifier"
   ]
  },
  {
   "cell_type": "code",
   "execution_count": null,
   "metadata": {},
   "outputs": [],
   "source": [
    "clf = KNeighborsClassifier(n_neighbors=16)\n",
    "clf.fit(X, y)"
   ]
  },
  {
   "cell_type": "code",
   "execution_count": null,
   "metadata": {},
   "outputs": [],
   "source": [
    "clf.predict(new_pt.reshape(1, -1)) # input has to be 2D"
   ]
  },
  {
   "cell_type": "markdown",
   "metadata": {},
   "source": [
    "Let's visualize the decision boundary of this classifier by evaluating the predicted class for a grid of trial data:"
   ]
  },
  {
   "cell_type": "code",
   "execution_count": null,
   "metadata": {
    "collapsed": true
   },
   "outputs": [],
   "source": [
    "grid_1d = np.linspace(-10, 20, 256)\n",
    "grid_x1, grid_x2 = np.meshgrid(grid_1d, grid_1d)\n",
    "grid = np.stack((grid_x1.ravel(), grid_x2.ravel()), axis=1)"
   ]
  },
  {
   "cell_type": "code",
   "execution_count": null,
   "metadata": {
    "collapsed": true
   },
   "outputs": [],
   "source": [
    "y_grid = clf.predict(grid)"
   ]
  },
  {
   "cell_type": "code",
   "execution_count": null,
   "metadata": {},
   "outputs": [],
   "source": [
    "plt.figure(figsize=(6,6))\n",
    "\n",
    "plt.pcolormesh(grid_x1, grid_x2, y_grid.reshape(grid_x1.shape), \n",
    "               cmap='Set3', alpha=1.)\n",
    "\n",
    "plt.scatter(X[:,0], X[:,1], marker='.', alpha=0.65, linewidth=0)\n",
    "\n",
    "plt.xlim(-10, 20)\n",
    "plt.ylim(-10, 20)\n",
    "\n",
    "plt.xlabel('$x_1$')\n",
    "plt.ylabel('$x_2$')\n",
    "\n",
    "plt.tight_layout()"
   ]
  },
  {
   "cell_type": "markdown",
   "metadata": {},
   "source": [
    "KNN is very simple, but is very fast and is therefore useful in problems with large or wide datasets.\n",
    "\n",
    "---\n",
    "\n",
    "Let's now look at a more complicated example where the training data classes overlap significantly:"
   ]
  },
  {
   "cell_type": "code",
   "execution_count": null,
   "metadata": {
    "collapsed": true
   },
   "outputs": [],
   "source": [
    "a = np.random.multivariate_normal([6., 0.5], \n",
    "                                  [[8., 0.],\n",
    "                                   [0., 0.25]], size=512)\n",
    "\n",
    "b = np.random.multivariate_normal([10., 4.], \n",
    "                                  [[2., 0.],\n",
    "                                   [0., 8]], size=1024)\n",
    "\n",
    "X2 = np.vstack((a,b))\n",
    "y2 = np.concatenate((np.zeros(len(a)), \n",
    "                     np.ones(len(b))))"
   ]
  },
  {
   "cell_type": "code",
   "execution_count": null,
   "metadata": {},
   "outputs": [],
   "source": [
    "plt.figure(figsize=(6,6))\n",
    "\n",
    "plt.scatter(X2[:,0], X2[:,1], c=y2, cmap='RdBu', marker='.', alpha=0.4)\n",
    "\n",
    "plt.xlim(-10, 20)\n",
    "plt.ylim(-10, 20)\n",
    "\n",
    "plt.title('Training data')\n",
    "plt.xlabel('$x_1$')\n",
    "plt.ylabel('$x_2$')\n",
    "\n",
    "plt.tight_layout()"
   ]
  },
  {
   "cell_type": "markdown",
   "metadata": {},
   "source": [
    "What does the decision boundary look like in this case, as a function of the number of neighbors, `K`:"
   ]
  },
  {
   "cell_type": "code",
   "execution_count": null,
   "metadata": {},
   "outputs": [],
   "source": [
    "for K in [4, 16, 64, 256]:\n",
    "    clf2 = KNeighborsClassifier(n_neighbors=K)\n",
    "    clf2.fit(X2, y2)\n",
    "\n",
    "    y_grid2 = clf2.predict(grid)\n",
    "    \n",
    "    plt.figure(figsize=(6,6))\n",
    "\n",
    "    plt.pcolormesh(grid_x1, grid_x2, y_grid2.reshape(grid_x1.shape), \n",
    "                   cmap='Set3', alpha=1.)\n",
    "\n",
    "    plt.scatter(X2[:,0], X2[:,1], marker='.', alpha=0.65, linewidth=0)\n",
    "\n",
    "    plt.xlim(-10, 20)\n",
    "    plt.ylim(-10, 20)\n",
    "\n",
    "    plt.xlabel('$x_1$')\n",
    "    plt.ylabel('$x_2$')\n",
    "    \n",
    "    plt.title(\"$K={0}$\".format(K))\n",
    "\n",
    "    plt.tight_layout()"
   ]
  }
 ],
 "metadata": {
  "kernelspec": {
   "display_name": "Python [default]",
   "language": "python",
   "name": "python3"
  },
  "language_info": {
   "codemirror_mode": {
    "name": "ipython",
    "version": 3
   },
   "file_extension": ".py",
   "mimetype": "text/x-python",
   "name": "python",
   "nbconvert_exporter": "python",
   "pygments_lexer": "ipython3",
   "version": "3.5.2"
  }
 },
 "nbformat": 4,
 "nbformat_minor": 2
}
